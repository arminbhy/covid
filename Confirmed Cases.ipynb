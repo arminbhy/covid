{
 "cells": [
  {
   "cell_type": "code",
   "execution_count": null,
   "metadata": {
    "scrolled": false
   },
   "outputs": [],
   "source": [
    "import csv\n",
    "import requests\n",
    "import plotly\n",
    "from plotly.offline import iplot, init_notebook_mode\n",
    "import plotly.graph_objs as go\n",
    "\n",
    "init_notebook_mode(connected=True)\n",
    "\n",
    "url = \"https://raw.githubusercontent.com/CSSEGISandData/COVID-19/master/csse_covid_19_data/csse_covid_19_time_series/time_series_19-covid-Confirmed.csv\"\n",
    "\n",
    "def plot_province(name, title=None):\n",
    "    title = title or name\n",
    "    prov_data = [block for block in blocks if block[\"Province/State\"] == name][0][\"cases\"]\n",
    "    data = [go.Scatter(y=prov_data)]\n",
    "    layout = go.Layout(title=f\"{title} ({max(prov_data)} cases)\")\n",
    "    plotly.offline.iplot({\"data\": data, \"layout\": layout})\n",
    "                 \n",
    "def plot_country(name, title=None):\n",
    "    title = title or name\n",
    "    country_blocks = [block for block in blocks if block[\"Country/Region\"] == name]\n",
    "    cases = [block[\"cases\"] for block in country_blocks]\n",
    "    country_data = [sum(v) for v in list(zip(*cases))]\n",
    "    data = [go.Scatter(y=country_data)]\n",
    "    layout = go.Layout(title=f\"{title} ({max(country_data)} cases)\")\n",
    "    plotly.offline.iplot({\"data\": data, \"layout\": layout})\n",
    "\n",
    "response = requests.get(url)\n",
    "reader = csv.DictReader(line.decode() for line in response.iter_lines())\n",
    "blocks = []\n",
    "for row in reader:\n",
    "    block = {k: v for k, v in row.items() if k in [\"Province/State\", \"Country/Region\"]}\n",
    "    block[\"cases\"] = [int(v) for k, v in row.items() if k.endswith(\"/20\")]  # /20 is 2020 in date key\n",
    "    blocks.append(block)\n",
    "\n",
    "plot_country(\"Canada\")\n",
    "plot_country(\"US\", \"United States\")\n",
    "\n",
    "plot_province(\"British Columbia\")\n",
    "plot_province(\"California\")"
   ]
  }
 ],
 "metadata": {
  "kernelspec": {
   "display_name": "Python 3",
   "language": "python",
   "name": "python3"
  },
  "language_info": {
   "codemirror_mode": {
    "name": "ipython",
    "version": 3
   },
   "file_extension": ".py",
   "mimetype": "text/x-python",
   "name": "python",
   "nbconvert_exporter": "python",
   "pygments_lexer": "ipython3",
   "version": "3.8.2"
  }
 },
 "nbformat": 4,
 "nbformat_minor": 4
}
